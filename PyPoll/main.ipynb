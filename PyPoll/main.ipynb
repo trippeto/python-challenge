{
 "cells": [
  {
   "cell_type": "code",
   "execution_count": 96,
   "metadata": {},
   "outputs": [],
   "source": [
    "import os\n",
    "import csv\n",
    "\n",
    "inpath = os.path.join('Resources', 'election_data.csv')\n",
    "outpath = os.path.join('Analysis', 'Election_Results.txt')"
   ]
  },
  {
   "cell_type": "code",
   "execution_count": 101,
   "metadata": {},
   "outputs": [
    {
     "name": "stdout",
     "output_type": "stream",
     "text": [
      "Election Results\n",
      "-------------------------\n",
      "Total Votes: 3521001\n",
      "-------------------------\n",
      "Khan: 63.000% (2218231)\n",
      "Correy: 20.000% (704200)\n",
      "Li: 14.000% (492940)\n",
      "O'Tooley: 3.000% (105630)\n",
      "-------------------------\n",
      "Winner: Khan\n",
      "-------------------------\n"
     ]
    }
   ],
   "source": [
    "tot_votes = 0 \n",
    "election_data = {}\n",
    "\n",
    "with open(inpath, 'r') as infile, open (outpath, 'w') as outfile:\n",
    "    \n",
    "    reader = csv.reader(infile, delimiter = ',')\n",
    "    header = next(reader)\n",
    "    writer = csv.writer(outfile)\n",
    "    \n",
    "    for row in reader:\n",
    "        \n",
    "        tot_votes += 1\n",
    "        election_data[row[2]] = election_data.get(row[2], 0) + 1\n",
    "        \n",
    "    writer.writerow(['Election Results'])\n",
    "    writer.writerow(['-------------------------'])\n",
    "    writer.writerow(['Total Votes: ' + f'{tot_votes}'])\n",
    "    writer.writerow(['-------------------------'])\n",
    "        \n",
    "    print('Election Results')\n",
    "    print('-------------------------')\n",
    "    print('Total Votes: ' + f'{tot_votes}')\n",
    "    print('-------------------------')\n",
    "        \n",
    "    for key, value in election_data.items(): \n",
    "        percent_votes = (value/tot_votes) * 100        \n",
    "        writer.writerow([f'{key}' + ': ' + f'{(percent_votes):.3f}%' + ' ' + f'({value})'])\n",
    "        print(str(key) + ': ' + f'{(percent_votes):.3f}%' + ' ' + f'({value})')\n",
    "        max_votes = max(election_data, key=election_data.get)  \n",
    "    \n",
    "    writer.writerow(['-------------------------'])\n",
    "    writer.writerow(['Winner: ' + max_votes])\n",
    "    writer.writerow(['-------------------------']) \n",
    "    \n",
    "    print('-------------------------')\n",
    "    print('Winner: ' + max_votes)\n",
    "    print('-------------------------')"
   ]
  },
  {
   "cell_type": "code",
   "execution_count": null,
   "metadata": {},
   "outputs": [],
   "source": []
  }
 ],
 "metadata": {
  "kernelspec": {
   "display_name": "Python 3",
   "language": "python",
   "name": "python3"
  },
  "language_info": {
   "codemirror_mode": {
    "name": "ipython",
    "version": 3
   },
   "file_extension": ".py",
   "mimetype": "text/x-python",
   "name": "python",
   "nbconvert_exporter": "python",
   "pygments_lexer": "ipython3",
   "version": "3.7.6"
  }
 },
 "nbformat": 4,
 "nbformat_minor": 4
}
