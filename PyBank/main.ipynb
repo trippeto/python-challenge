{
 "cells": [
  {
   "cell_type": "code",
   "execution_count": 43,
   "metadata": {},
   "outputs": [],
   "source": [
    "import os\n",
    "import csv\n",
    "\n",
    "inpath = os.path.join('Resources', 'budget_data.csv')\n",
    "outpath = os.path.join('Analysis', 'Financial_Analysis.txt')"
   ]
  },
  {
   "cell_type": "code",
   "execution_count": 44,
   "metadata": {},
   "outputs": [
    {
     "name": "stdout",
     "output_type": "stream",
     "text": [
      "Financial Analysis\n",
      "---------------------------\n",
      "Total Months:  86\n",
      "Total:  $38382578\n",
      "Average Change:  $-2315.12\n",
      "Greatest Increase in Profits:  Feb-2012 ($1926159)\n",
      "Greatest Decrease in Profits:  Sep-2013 ($-2196167)\n"
     ]
    }
   ],
   "source": [
    "month_count = 0\n",
    "total_PnL = 0\n",
    "PnL_change_list = []\n",
    "month_of_change = []\n",
    "\n",
    "with open(inpath, 'r') as infile, open(outpath, 'w') as outfile:\n",
    "\n",
    "    reader = csv.reader(infile, delimiter = ',')  \n",
    "    header = next(reader)\n",
    "    writer = csv.writer(outfile)\n",
    "    \n",
    "    first_row = next(reader)\n",
    "    month_count += 1 \n",
    "    total_PnL += int(first_row[1])\n",
    "    prev_row = int(first_row[1])\n",
    "    \n",
    "    for row in reader:\n",
    "        \n",
    "        month_count += 1\n",
    "        \n",
    "        total_PnL += int(row[1])        \n",
    "        \n",
    "        PnL_change = int(row[1]) - prev_row        \n",
    "        prev_row = int(row[1])        \n",
    "        PnL_change_list.append(PnL_change)\n",
    "        month_of_change.append(row[0])\n",
    "        avg_change = sum(PnL_change_list)/len(PnL_change_list)\n",
    "    \n",
    "    writer.writerow(['Financial Analysis'])\n",
    "    writer.writerow(['---------------------------'])\n",
    "    writer.writerow(['Total Months: ' + f'{month_count}'])\n",
    "    writer.writerow(['Total: ' + f'${total_PnL}'])\n",
    "    writer.writerow(['Average Change: ' f'${(avg_change):.2f}'])\n",
    "    writer.writerow(['Greatest Increase in Profits: ' + month_of_change[PnL_change_list.index(max(PnL_change_list))] + \" \" + f'(${max(PnL_change_list)})'])\n",
    "    writer.writerow(['Greatest Decrease in Profits: ' + month_of_change[PnL_change_list.index(min(PnL_change_list))] + \" \" + f'(${min(PnL_change_list)})'])\n",
    "\n",
    "print('Financial Analysis')\n",
    "print('---------------------------')\n",
    "print('Total Months: ', month_count)\n",
    "print('Total: ', f'${total_PnL}')\n",
    "print('Average Change: ', f'${(avg_change):.2f}')\n",
    "print('Greatest Increase in Profits: ', month_of_change[PnL_change_list.index(max(PnL_change_list))], f'(${max(PnL_change_list)})')\n",
    "print('Greatest Decrease in Profits: ', month_of_change[PnL_change_list.index(min(PnL_change_list))], f'(${min(PnL_change_list)})')"
   ]
  },
  {
   "cell_type": "code",
   "execution_count": null,
   "metadata": {},
   "outputs": [],
   "source": []
  }
 ],
 "metadata": {
  "kernelspec": {
   "display_name": "Python 3",
   "language": "python",
   "name": "python3"
  },
  "language_info": {
   "codemirror_mode": {
    "name": "ipython",
    "version": 3
   },
   "file_extension": ".py",
   "mimetype": "text/x-python",
   "name": "python",
   "nbconvert_exporter": "python",
   "pygments_lexer": "ipython3",
   "version": "3.7.6"
  }
 },
 "nbformat": 4,
 "nbformat_minor": 4
}
